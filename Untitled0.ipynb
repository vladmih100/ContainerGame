{
  "nbformat": 4,
  "nbformat_minor": 0,
  "metadata": {
    "colab": {
      "provenance": [],
      "collapsed_sections": [],
      "authorship_tag": "ABX9TyNaU1VRP/2q2mZYSQfVMS8w",
      "include_colab_link": true
    },
    "kernelspec": {
      "name": "python3",
      "display_name": "Python 3"
    },
    "language_info": {
      "name": "python"
    }
  },
  "cells": [
    {
      "cell_type": "markdown",
      "metadata": {
        "id": "view-in-github",
        "colab_type": "text"
      },
      "source": [
        "<a href=\"https://colab.research.google.com/github/vladmih100/ContainerGame/blob/master/Untitled0.ipynb\" target=\"_parent\"><img src=\"https://colab.research.google.com/assets/colab-badge.svg\" alt=\"Open In Colab\"/></a>"
      ]
    },
    {
      "cell_type": "code",
      "execution_count": 9,
      "metadata": {
        "colab": {
          "base_uri": "https://localhost:8080/"
        },
        "id": "dLMYdz_c7zsz",
        "outputId": "150ee489-493e-4326-e6e6-1919d5d6cdb7"
      },
      "outputs": [
        {
          "output_type": "stream",
          "name": "stderr",
          "text": [
            "WARNING:tensorflow:No training configuration found in the save file, so the model was *not* compiled. Compile it manually.\n",
            "WARNING:tensorflow:5 out of the last 6 calls to <function Model.make_predict_function.<locals>.predict_function at 0x7ff95832def0> triggered tf.function retracing. Tracing is expensive and the excessive number of tracings could be due to (1) creating @tf.function repeatedly in a loop, (2) passing tensors with different shapes, (3) passing Python objects instead of tensors. For (1), please define your @tf.function outside of the loop. For (2), @tf.function has experimental_relax_shapes=True option that relaxes argument shapes that can avoid unnecessary retracing. For (3), please refer to https://www.tensorflow.org/guide/function#controlling_retracing and https://www.tensorflow.org/api_docs/python/tf/function for  more details.\n",
            "WARNING:tensorflow:6 out of the last 7 calls to <function Model.make_predict_function.<locals>.predict_function at 0x7ff95832def0> triggered tf.function retracing. Tracing is expensive and the excessive number of tracings could be due to (1) creating @tf.function repeatedly in a loop, (2) passing tensors with different shapes, (3) passing Python objects instead of tensors. For (1), please define your @tf.function outside of the loop. For (2), @tf.function has experimental_relax_shapes=True option that relaxes argument shapes that can avoid unnecessary retracing. For (3), please refer to https://www.tensorflow.org/guide/function#controlling_retracing and https://www.tensorflow.org/api_docs/python/tf/function for  more details.\n",
            "WARNING:tensorflow:7 out of the last 8 calls to <function Model.make_predict_function.<locals>.predict_function at 0x7ff95832def0> triggered tf.function retracing. Tracing is expensive and the excessive number of tracings could be due to (1) creating @tf.function repeatedly in a loop, (2) passing tensors with different shapes, (3) passing Python objects instead of tensors. For (1), please define your @tf.function outside of the loop. For (2), @tf.function has experimental_relax_shapes=True option that relaxes argument shapes that can avoid unnecessary retracing. For (3), please refer to https://www.tensorflow.org/guide/function#controlling_retracing and https://www.tensorflow.org/api_docs/python/tf/function for  more details.\n"
          ]
        }
      ],
      "source": [
        "from imageai.Detection import ObjectDetection\n",
        "import os\n",
        "\n",
        "execution_path = os.getcwd()\n",
        "\n",
        "detector = ObjectDetection()\n",
        "detector.setModelTypeAsRetinaNet()\n",
        "detector.setModelPath( os.path.join(execution_path , \"resnet50_coco_best_v2.1.0.h5\"))\n",
        "detector.loadModel()\n",
        "\n",
        "imNum = 0\n",
        "for images in os.listdir(execution_path):\n",
        "    # check if the image ends with jpg or jpeg\n",
        "    if (images.endswith(\".jpg\") or images.endswith(\".jpeg\") or images.endswith(\".png\")):\n",
        "        detections = detector.detectObjectsFromImage(input_image=os.path.join(execution_path , images), output_image_path=os.path.join(execution_path , \"imagenew\" + str(imNum) + \".jpg\"))\n",
        "        imNum += 1\n",
        "\n"
      ]
    },
    {
      "cell_type": "code",
      "source": [
        "for eachObject in detections:\n",
        "    print(eachObject[\"name\"] , \" : \" , eachObject[\"percentage_probability\"] )"
      ],
      "metadata": {
        "colab": {
          "base_uri": "https://localhost:8080/"
        },
        "id": "brAaD1-VtwmB",
        "outputId": "6f61f007-5bc1-4336-a8f1-eda6234ee373"
      },
      "execution_count": 10,
      "outputs": [
        {
          "output_type": "stream",
          "name": "stdout",
          "text": [
            "car  :  93.05871725082397\n",
            "car  :  90.95325469970703\n",
            "car  :  90.53104519844055\n",
            "car  :  88.62581253051758\n",
            "car  :  88.2154107093811\n",
            "car  :  85.36734580993652\n",
            "car  :  77.13561058044434\n",
            "car  :  72.7465033531189\n",
            "car  :  72.46924638748169\n",
            "car  :  71.98529839515686\n",
            "car  :  70.82768678665161\n",
            "car  :  68.99996995925903\n",
            "car  :  68.10503602027893\n",
            "car  :  66.12164378166199\n",
            "car  :  63.26502561569214\n",
            "car  :  62.110549211502075\n",
            "car  :  60.98291873931885\n",
            "car  :  60.30246019363403\n",
            "car  :  60.283416509628296\n",
            "car  :  59.79951620101929\n",
            "car  :  59.72030162811279\n",
            "car  :  59.34308171272278\n",
            "car  :  57.5853705406189\n",
            "car  :  57.58035182952881\n",
            "car  :  56.06415867805481\n",
            "car  :  56.051260232925415\n",
            "car  :  55.21520376205444\n",
            "car  :  54.09095287322998\n",
            "car  :  51.7065703868866\n",
            "car  :  51.346808671951294\n",
            "car  :  50.34549832344055\n"
          ]
        }
      ]
    }
  ]
}